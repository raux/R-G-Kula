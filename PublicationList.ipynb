{
 "cells": [
  {
   "cell_type": "markdown",
   "metadata": {},
   "source": [
    "# Research Interests"
   ]
  },
  {
   "cell_type": "markdown",
   "metadata": {},
   "source": [
    "## Software Reuse\n",
    "My interest includes how developers manage and update their third-party libraries. Related Publications in include work on Library Updates and Vulnerabilties <cite data-cite=\"4542931/DBCEME7K\"></cite>, Library Aging <cite data-cite=\"4542931/MV39Q277\"></cite>"
   ]
  },
  {
   "cell_type": "markdown",
   "metadata": {},
   "source": [
    "## Software Ecosystems"
   ]
  },
  {
   "cell_type": "markdown",
   "metadata": {},
   "source": [
    "## Software Visualizations"
   ]
  },
  {
   "cell_type": "markdown",
   "metadata": {},
   "source": [
    "## Software Process\n",
    "### Code Maintenance (Code Review and Bug Fixing Processes)"
   ]
  },
  {
   "cell_type": "markdown",
   "metadata": {},
   "source": [
    "# Publication List\n",
    "<div class=\"cite2c-biblio\"></div>"
   ]
  }
 ],
 "metadata": {
  "cite2c": {
   "citations": {
    "4542931/DBCEME7K": {
     "author": [
      {
       "family": "Kula",
       "given": "Raula Gaikovina"
      },
      {
       "family": "Ouni",
       "given": "Ali"
      },
      {
       "family": "German",
       "given": "Daniel M."
      },
      {
       "family": "Inoue",
       "given": "Katsuro"
      }
     ],
     "container-title": "Empirical Software Engineering, EMSE, 2016 (submitted)",
     "id": "4542931/DBCEME7K",
     "title": "Do Developers Update their Library Dependencies? An Empirical Study on Library Migration Practices",
     "type": "article-journal"
    },
    "4542931/MV39Q277": {
     "URL": "http://sel.ist.osaka-u.ac.jp/ raula-k/publications/latencyAdoptions2015ERA.pdf",
     "author": [
      {
       "family": "Kula",
       "given": "Raula Gaikovina"
      },
      {
       "family": "German",
       "given": "Daniel M."
      },
      {
       "family": "Ishio",
       "given": "Takashi"
      },
      {
       "family": "Inoue",
       "given": "Katsuro"
      }
     ],
     "container-title": "22nd IEEE International Conference on Software Analysis, Evolution, and Reengineering, SANER 2015, Montreal, Canada, March 2-6, 2015",
     "id": "4542931/MV39Q277",
     "issued": {
      "year": "2015"
     },
     "title": "Trusting a Library: A Study of the Latency to Adopt the Latest Maven Release",
     "type": "paper-conference"
    }
   }
  },
  "kernelspec": {
   "display_name": "Python 2",
   "language": "python",
   "name": "python2"
  },
  "language_info": {
   "codemirror_mode": {
    "name": "ipython",
    "version": 3
   },
   "file_extension": ".py",
   "mimetype": "text/x-python",
   "name": "python",
   "nbconvert_exporter": "python",
   "pygments_lexer": "ipython3",
   "version": "3.6.0"
  }
 },
 "nbformat": 4,
 "nbformat_minor": 2
}
